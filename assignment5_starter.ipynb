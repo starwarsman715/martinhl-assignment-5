{
 "cells": [
  {
   "cell_type": "code",
   "execution_count": 72,
   "metadata": {},
   "outputs": [],
   "source": [
    "import numpy as np\n",
    "import pandas as pd"
   ]
  },
  {
   "cell_type": "code",
   "execution_count": 73,
   "metadata": {},
   "outputs": [],
   "source": [
    "class KNN:\n",
    "    def __init__(self, k=3, distance_metric='euclidean'):\n",
    "        self.k = k\n",
    "        self.distance_metric = distance_metric\n",
    "\n",
    "    def fit(self, X, y):\n",
    "        self.X_train = X\n",
    "        self.y_train = y\n",
    "\n",
    "    def predict_proba(self, X):\n",
    "        return np.array([self._predict_proba(x) for x in X.values])\n",
    "\n",
    "    def _predict_proba(self, x):\n",
    "        distances = self.compute_distance(x, self.X_train.values)\n",
    "        k_indices = np.argsort(distances)[:self.k]\n",
    "        k_nearest_labels = self.y_train.iloc[k_indices]\n",
    "        return np.mean(k_nearest_labels)\n",
    "\n",
    "    def compute_distance(self, X1, X2):\n",
    "        if self.distance_metric == 'euclidean':\n",
    "            return np.sqrt(np.sum((X2 - X1)**2, axis=1))\n",
    "        elif self.distance_metric == 'manhattan':\n",
    "            return np.sum(np.abs(X2 - X1), axis=1)\n",
    "        else:\n",
    "            raise ValueError(\"Unsupported distance metric\")"
   ]
  },
  {
   "cell_type": "code",
   "execution_count": 74,
   "metadata": {},
   "outputs": [],
   "source": [
    "def preprocess_data(train_path, test_path):\n",
    "    train_data = pd.read_csv(train_path)\n",
    "    test_data = pd.read_csv(test_path)\n",
    "    \n",
    "    # Combine train and test for preprocessing\n",
    "    combined_data = pd.concat([train_data, test_data], axis=0, ignore_index=True)\n",
    "    \n",
    "    # Handle categorical variables\n",
    "    combined_data = pd.get_dummies(combined_data, columns=['Geography', 'Gender'])\n",
    "    \n",
    "    # Select relevant features\n",
    "    features = ['CreditScore', 'Age', 'Tenure', 'Balance', 'NumOfProducts', 'HasCrCard', 'IsActiveMember', 'EstimatedSalary'] + \\\n",
    "               [col for col in combined_data.columns if col.startswith('Geography_') or col.startswith('Gender_')]\n",
    "    \n",
    "    # Scale features\n",
    "    for feature in features:\n",
    "        mean = combined_data[feature].mean()\n",
    "        std = combined_data[feature].std()\n",
    "        combined_data[feature] = (combined_data[feature] - mean) / std\n",
    "    \n",
    "    # Split back into train and test\n",
    "    X_train = combined_data.loc[:len(train_data)-1, features]\n",
    "    y_train = train_data['Exited']\n",
    "    X_test = combined_data.loc[len(train_data):, features]\n",
    "    \n",
    "    return X_train, y_train, X_test"
   ]
  },
  {
   "cell_type": "code",
   "execution_count": 75,
   "metadata": {},
   "outputs": [],
   "source": [
    "def roc_auc_score(y_true, y_pred_proba):\n",
    "    # Simple implementation of ROC AUC score\n",
    "    positive_indices = np.where(y_true == 1)[0]\n",
    "    negative_indices = np.where(y_true == 0)[0]\n",
    "    \n",
    "    n_pos = len(positive_indices)\n",
    "    n_neg = len(negative_indices)\n",
    "    \n",
    "    positive_predictions = y_pred_proba[positive_indices]\n",
    "    negative_predictions = y_pred_proba[negative_indices]\n",
    "    \n",
    "    correct_order = sum(p > n for p in positive_predictions for n in negative_predictions)\n",
    "    \n",
    "    return correct_order / (n_pos * n_neg)"
   ]
  },
  {
   "cell_type": "code",
   "execution_count": 76,
   "metadata": {},
   "outputs": [],
   "source": [
    "def cross_validate(X, y, knn, n_splits=5):\n",
    "    np.random.seed(42)\n",
    "    indices = np.random.permutation(len(X))\n",
    "    fold_size = len(X) // n_splits\n",
    "    scores = []\n",
    "    \n",
    "    for i in range(n_splits):\n",
    "        val_indices = indices[i*fold_size:(i+1)*fold_size]\n",
    "        train_indices = np.concatenate([indices[:i*fold_size], indices[(i+1)*fold_size:]])\n",
    "        \n",
    "        X_train, X_val = X.iloc[train_indices], X.iloc[val_indices]\n",
    "        y_train, y_val = y.iloc[train_indices], y.iloc[val_indices]\n",
    "        \n",
    "        knn.fit(X_train, y_train)\n",
    "        y_pred_proba = knn.predict_proba(X_val)\n",
    "        score = roc_auc_score(y_val, y_pred_proba)\n",
    "        scores.append(score)\n",
    "    \n",
    "    return scores"
   ]
  },
  {
   "cell_type": "code",
   "execution_count": 77,
   "metadata": {},
   "outputs": [
    {
     "name": "stdout",
     "output_type": "stream",
     "text": [
      "Cross-validation scores: [np.float64(0.7837026455140117), np.float64(0.8193873678503659), np.float64(0.8125610574347233), np.float64(0.7861145617667357), np.float64(0.8205360286978428)]\n",
      "Mean ROC AUC score: 0.8044603322527358\n",
      "Best parameters: {'k': 17, 'distance_metric': 'manhattan'}\n",
      "Best ROC AUC score: 0.8788329671681072\n"
     ]
    }
   ],
   "source": [
    "# Load and preprocess data\n",
    "X, y, X_test = preprocess_data('train.csv', 'test.csv')\n",
    "\n",
    "# Create and evaluate model\n",
    "knn = KNN(k=5, distance_metric='euclidean')\n",
    "\n",
    "# Perform cross-validation\n",
    "cv_scores = cross_validate(X, y, knn)\n",
    "\n",
    "print(\"Cross-validation scores:\", cv_scores)\n",
    "print(\"Mean ROC AUC score:\", np.mean(cv_scores))\n",
    "\n",
    "# Hyperparameter tuning\n",
    "k_values = [3, 5, 7, 9, 11, 13, 15, 17]\n",
    "distance_metrics = ['euclidean', 'manhattan']\n",
    "best_score = 0\n",
    "best_params = {}\n",
    "\n",
    "for k in k_values:\n",
    "    for metric in distance_metrics:\n",
    "        knn = KNN(k=k, distance_metric=metric)\n",
    "        scores = cross_validate(X, y, knn)\n",
    "        mean_score = np.mean(scores)\n",
    "        \n",
    "        if mean_score > best_score:\n",
    "            best_score = mean_score\n",
    "            best_params = {'k': k, 'distance_metric': metric}\n",
    "\n",
    "print(\"Best parameters:\", best_params)\n",
    "print(\"Best ROC AUC score:\", best_score)\n",
    "\n",
    "# Train on full dataset with optimal hyperparameters and make predictions on test set\n",
    "knn = KNN(**best_params)\n",
    "knn.fit(X, y)\n",
    "test_predictions = knn.predict_proba(X_test)\n",
    "\n",
    "rounded_predictions = np.round(test_predictions, 2)\n",
    "\n",
    "# Save test predictions\n",
    "pd.DataFrame({'id': pd.read_csv('test.csv')['id'], 'Exited': rounded_predictions.ravel()}).to_csv('submissions.csv', index=False)"
   ]
  }
 ],
 "metadata": {
  "kernelspec": {
   "display_name": "Python 3",
   "language": "python",
   "name": "python3"
  },
  "language_info": {
   "codemirror_mode": {
    "name": "ipython",
    "version": 3
   },
   "file_extension": ".py",
   "mimetype": "text/x-python",
   "name": "python",
   "nbconvert_exporter": "python",
   "pygments_lexer": "ipython3",
   "version": "3.12.6"
  }
 },
 "nbformat": 4,
 "nbformat_minor": 2
}
